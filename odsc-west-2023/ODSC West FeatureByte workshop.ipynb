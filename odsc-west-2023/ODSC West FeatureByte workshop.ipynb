{
 "cells": [
  {
   "cell_type": "markdown",
   "metadata": {},
   "source": [
    "# ODSC FeatureByte Workshop"
   ]
  },
  {
   "cell_type": "markdown",
   "metadata": {},
   "source": [
    "Library imports and connection to the FeatureByte server."
   ]
  },
  {
   "cell_type": "code",
   "execution_count": null,
   "metadata": {},
   "outputs": [],
   "source": [
    "import featurebyte as fb\n",
    "import pandas as pd\n",
    "from packaging import version\n",
    "\n",
    "# this script requires version 0.5.0 or higher\n",
    "print(f\"\\nFeatureByte Version: {fb.version}\\n\")\n",
    "if version.parse(fb.version) < version.parse('0.5.0'):\n",
    "    raise Exception(\"Please upgrade your FeatureByte library to version 0.5.0 or higher\")"
   ]
  },
  {
   "cell_type": "markdown",
   "metadata": {},
   "source": [
    "Next we need to connect to the FeatureByte server.<br>\n",
    "NOTE: Before the first time you run this cell, type the api token into the script."
   ]
  },
  {
   "cell_type": "code",
   "execution_count": null,
   "metadata": {},
   "outputs": [],
   "source": [
    "#############################################################################################\n",
    "# paste your API token here\n",
    "#############################################################################################\n",
    "api_token = \"\"\n",
    "\n",
    "# connect to the FeatureByte server\n",
    "user_profile_name = 'creditcardworkshop'\n",
    "try:\n",
    "    fb.use_profile(user_profile_name)\n",
    "except Exception as e:\n",
    "    print(\"Setting up your user profile...\")\n",
    "    if api_token == \"\":\n",
    "        raise Exception(\"Please paste your API token in the code above\")\n",
    "    server_url = \"https://demo.featurebyte.com/api/v1\"\n",
    "    fb.register_profile(user_profile_name, server_url, api_token)\n",
    "    fb.use_profile(user_profile_name)\n",
    "\n",
    "catalog_name = 'ODSC West workshop 2023'\n",
    "catalog = fb.activate_and_get_catalog(catalog_name)"
   ]
  },
  {
   "cell_type": "markdown",
   "metadata": {},
   "source": [
    "Load an observation set that will be used later for previewing materialized values of feature lists"
   ]
  },
  {
   "cell_type": "code",
   "execution_count": null,
   "metadata": {},
   "outputs": [],
   "source": [
    "sample_table_name = 'Workshop Preview Sample Observations'\n",
    "obs_set = catalog.get_observation_table(sample_table_name).to_pandas()\n",
    "display(obs_set)"
   ]
  },
  {
   "cell_type": "markdown",
   "metadata": {},
   "source": [
    "Create views"
   ]
  },
  {
   "cell_type": "code",
   "execution_count": null,
   "metadata": {},
   "outputs": [],
   "source": [
    "# create a view for each table\n",
    "customer_view = catalog.get_view(\"Customer_Profile\")\n",
    "card_view = catalog.get_view(\"Card_Details\")\n",
    "state_view = catalog.get_view(\"State_Details\")\n",
    "transaction_view = catalog.get_view(\"Transactions\")\n",
    "fraud_view = catalog.get_view(\"Fraud_Status\")\n",
    "transactiongroup_view = catalog.get_view(\"Transaction_Types\")"
   ]
  },
  {
   "cell_type": "markdown",
   "metadata": {},
   "source": [
    "## Declaring New Features"
   ]
  },
  {
   "cell_type": "markdown",
   "metadata": {},
   "source": [
    "We will create feature with an attribute signal from the state view."
   ]
  },
  {
   "cell_type": "code",
   "execution_count": null,
   "metadata": {},
   "outputs": [],
   "source": [
    "#######################################################################\n",
    "# template python code\n",
    "#######################################################################\n",
    "\n",
    "# code template for joining two views\n",
    "below_poverty_line = state_view.BelowPovertyLevel.as_feature('PopulationBelowPovertyLevel')\n",
    "\n",
    "# display some sample values\n",
    "below_poverty_line.preview(obs_set)"
   ]
  },
  {
   "cell_type": "markdown",
   "metadata": {},
   "source": [
    "We will join two views to enhance the data. <br>\n",
    "Join the transaction view (the Python object we created earlier is called transaction_view) and the transaction groups view (the Python object we created earlier is called transactiongroup_view), into a new view called joined_view."
   ]
  },
  {
   "cell_type": "code",
   "execution_count": null,
   "metadata": {},
   "outputs": [],
   "source": [
    "#######################################################################\n",
    "# template python code\n",
    "#######################################################################\n",
    "\n",
    "# code template for joining two views\n",
    "joined_view = transaction_view.join(transactiongroup_view)"
   ]
  },
  {
   "cell_type": "markdown",
   "metadata": {},
   "source": [
    "Maybe customers with diverse shopping habits are more likely to have their credit card details stolen. So let's create a feature with a diversity signal.<br><br>\n",
    "\n",
    "Create a bucketing feature that uses the joined view, and [aggregate](https://docs.featurebyte.com/0.6/reference/featurebyte.api.groupby.GroupBy.aggregate_over/) the count of transaction groups across 168 days, grouped by credit card. Name the feature \"Card Bucketing Product Groups 168 days\""
   ]
  },
  {
   "cell_type": "code",
   "execution_count": null,
   "metadata": {},
   "outputs": [],
   "source": [
    "joined_view.preview(5)"
   ]
  },
  {
   "cell_type": "code",
   "execution_count": null,
   "metadata": {},
   "outputs": [],
   "source": [
    "#######################################################################\n",
    "# template python code\n",
    "#######################################################################\n",
    "\n",
    "# code template for bucketing features\n",
    "window_period = \"168d\"\n",
    "feature_name = \"Card Bucketing Product Groups 168 days\"\n",
    "bucketing_feature = joined_view.groupby(\"AccountID\", \"TransactionGroup\").aggregate_over(\n",
    "    None,\n",
    "    fb.AggFunc.COUNT,\n",
    "    windows=[window_period],\n",
    "    feature_names=[feature_name],\n",
    ")"
   ]
  },
  {
   "cell_type": "markdown",
   "metadata": {},
   "source": [
    "Create a feature with a diversity signal, calculating the entropy of the bucketing feature for each credit card.<br>\n",
    "Name the feature \"Card purchase diversity 168 days\""
   ]
  },
  {
   "cell_type": "code",
   "execution_count": null,
   "metadata": {},
   "outputs": [],
   "source": [
    "#######################################################################\n",
    "# template python code\n",
    "#######################################################################\n",
    "\n",
    "# code template for diversity feature\n",
    "diversity_feature = bucketing_feature[feature_name].cd.entropy()\n",
    "diversity_feature.name = \"Transaction Diversity by Card\""
   ]
  },
  {
   "cell_type": "markdown",
   "metadata": {},
   "source": [
    "Create a new feature list containing our 3 new features"
   ]
  },
  {
   "cell_type": "code",
   "execution_count": null,
   "metadata": {},
   "outputs": [],
   "source": [
    "# create a feature list\n",
    "three_new_features = fb.FeatureList([\n",
    "    below_poverty_line,\n",
    "    bucketing_feature,\n",
    "    diversity_feature,\n",
    "], name='Workshop 3 new features')\n",
    "\n",
    "# preview the values of the feature list\n",
    "three_new_features.preview(obs_set)"
   ]
  },
  {
   "cell_type": "markdown",
   "metadata": {},
   "source": [
    "## Observation Table"
   ]
  },
  {
   "cell_type": "markdown",
   "metadata": {},
   "source": [
    "Create an [observation table](https://docs.featurebyte.com/0.6/reference/core/observation_table/) that will be used for creating training data. \n",
    "1. Use the transactions view\n",
    "2. Filter the view to choose transactions occurring 01-Jul-2022 to 30-Jun-2023\n",
    "3. Sample for 100 examples\n",
    "4. Name the observation table “100 transactions 01-Jul-2022 to 30-Jun-2023 as at 12-Oct-2023”\n",
    "5. The entity column name is CardTransactionID and the card serving name is CARDTRANSACTIONID\n",
    "5. Map the column names to serving names\n",
    "6. Run the cell to create the table."
   ]
  },
  {
   "cell_type": "code",
   "execution_count": null,
   "metadata": {},
   "outputs": [],
   "source": [
    "transaction_view.preview(5)"
   ]
  },
  {
   "cell_type": "code",
   "execution_count": null,
   "metadata": {},
   "outputs": [],
   "source": [
    "#######################################################################\n",
    "# template python code\n",
    "#######################################################################\n",
    "view_filter = (transaction_view[\"Timestamp\"] >= pd.to_datetime(\"2022-07-01\")) & (\n",
    "    transaction_view[\"Timestamp\"] < pd.to_datetime(\"2023-07-01\")\n",
    ")\n",
    "\n",
    "# observation table template code\n",
    "observation_table = transaction_view[view_filter].create_observation_table(\n",
    "    name=\"100 transactions 01-Jul-2022 to 30-Jun-2023 as at 12-Oct-2023\",\n",
    "    sample_rows=100,\n",
    "    columns=[\"Timestamp\", \"CardTransactionID\"],\n",
    "    columns_rename_mapping={\n",
    "        \"Timestamp\": \"POINT_IN_TIME\",\n",
    "        \"CardTransactionID\": \"CARDTRANSACTIONID\",\n",
    "    }\n",
    ")"
   ]
  },
  {
   "cell_type": "code",
   "execution_count": null,
   "metadata": {},
   "outputs": [],
   "source": [
    "# display a sample of the observation table rows\n",
    "display(observation_table.sample(10))"
   ]
  },
  {
   "cell_type": "markdown",
   "metadata": {},
   "source": [
    "## Declare a Target"
   ]
  },
  {
   "cell_type": "markdown",
   "metadata": {},
   "source": [
    "Declare a [target](https://docs.featurebyte.com/0.6/reference/core/target/) that:\n",
    "1. Uses fraud_view\n",
    "2. Is a lookup attribute of the Status column, 30 days after the point in time of the transaction.\n",
    "3. Is named \"Transaction fraud status after 30 days\"\n",
    "4. Is stored in a variable called new_target"
   ]
  },
  {
   "cell_type": "code",
   "execution_count": null,
   "metadata": {},
   "outputs": [],
   "source": [
    "#######################################################################\n",
    "# template python code\n",
    "#######################################################################\n",
    "\n",
    "# template target declaration code here\n",
    "new_target = fraud_view.Status.as_target(\n",
    "    target_name=\"Transaction fraud status after 30 days\", \n",
    "    offset=\"30d\"\n",
    ")\n",
    "new_target.save()"
   ]
  },
  {
   "cell_type": "markdown",
   "metadata": {},
   "source": [
    "Compute the target values"
   ]
  },
  {
   "cell_type": "code",
   "execution_count": null,
   "metadata": {},
   "outputs": [],
   "source": [
    "# Materialize the target\n",
    "training_data_target_table = new_target.compute_target_table(\n",
    "    observation_table,\n",
    "    observation_table_name=\"Workshop target values\",\n",
    ")\n",
    "\n",
    "# display a sample of the target table rows\n",
    "display(training_data_target_table.sample(5))"
   ]
  },
  {
   "cell_type": "markdown",
   "metadata": {},
   "source": [
    "## Training Data"
   ]
  },
  {
   "cell_type": "markdown",
   "metadata": {},
   "source": [
    "Load the feature list called \"Strong_Features_Selection_for_Fraud\""
   ]
  },
  {
   "cell_type": "code",
   "execution_count": null,
   "metadata": {},
   "outputs": [],
   "source": [
    "# code template for loading a feature list\n",
    "feature_list = catalog.get_feature_list('Strong_Features_Selection_for_Fraud')"
   ]
  },
  {
   "cell_type": "markdown",
   "metadata": {},
   "source": [
    "Create a historical feature table that will be used for training a machine learning model.\n",
    "1. Use the target table we just created\n",
    "2. Use the feature list we just loaded\n",
    "3. Name the feature table “100 rows of card transaction training data 01-Jul-2022 to 30-Jun-2023 as at 05-Sep-2023”\n",
    "5. Run the cell to create the table"
   ]
  },
  {
   "cell_type": "code",
   "execution_count": null,
   "metadata": {},
   "outputs": [],
   "source": [
    "#######################################################################\n",
    "# template python code\n",
    "#######################################################################\n",
    "\n",
    "# historical feature table template here\n",
    "training_table = feature_list.compute_historical_feature_table(\n",
    "    training_data_target_table,\n",
    "    historical_feature_table_name=\"100 rows of card transaction training data 01-Jul-2022 to 30-Jun-2023 as at 05-Sep-2023\"\n",
    ")"
   ]
  },
  {
   "cell_type": "markdown",
   "metadata": {},
   "source": [
    "View a sample of the training data"
   ]
  },
  {
   "cell_type": "code",
   "execution_count": null,
   "metadata": {},
   "outputs": [],
   "source": [
    "# code to view a sample of the training data\n",
    "display(training_table.sample())"
   ]
  },
  {
   "cell_type": "markdown",
   "metadata": {},
   "source": [
    "## New Use Case"
   ]
  },
  {
   "cell_type": "code",
   "execution_count": null,
   "metadata": {},
   "outputs": [],
   "source": [
    "# create a context\n",
    "context = fb.Context.create(name=\"Credit Card\", entity_names=[\"Card\"])\n",
    "\n",
    "# create a target\n",
    "target = transaction_view.groupby(\"AccountID\").forward_aggregate(\n",
    "    method=\"sum\",\n",
    "    value_column=\"Amount\",\n",
    "    window=\"30d\",\n",
    "    target_name=\"Total Spend 30 days\",\n",
    ")\n",
    "\n",
    "target.save()\n",
    "\n",
    "# create a use case\n",
    "use_case = fb.UseCase.create(\n",
    "    name=\"Credit Card Total Spend 30 days\",\n",
    "    target_name=target.name,\n",
    "    context_name=context.name,\n",
    "    description=\"Predict how much a customer will spend in the next 30 days using specific Credit Card\",\n",
    ")\n"
   ]
  },
  {
   "cell_type": "code",
   "execution_count": null,
   "metadata": {},
   "outputs": [],
   "source": []
  }
 ],
 "metadata": {
  "kernelspec": {
   "display_name": "Environment051dev25",
   "language": "python",
   "name": "environment051dev25"
  },
  "language_info": {
   "codemirror_mode": {
    "name": "ipython",
    "version": 3
   },
   "file_extension": ".py",
   "mimetype": "text/x-python",
   "name": "python",
   "nbconvert_exporter": "python",
   "pygments_lexer": "ipython3",
   "version": "3.9.12"
  }
 },
 "nbformat": 4,
 "nbformat_minor": 2
}
